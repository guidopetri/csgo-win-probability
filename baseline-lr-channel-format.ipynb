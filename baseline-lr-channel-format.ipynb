{
 "cells": [
  {
   "cell_type": "markdown",
   "metadata": {},
   "source": [
    "# Baseline with channel format + log loss"
   ]
  },
  {
   "cell_type": "code",
   "execution_count": 1,
   "metadata": {},
   "outputs": [
    {
     "data": {
      "text/html": [
       "<div>\n",
       "<style scoped>\n",
       "    .dataframe tbody tr th:only-of-type {\n",
       "        vertical-align: middle;\n",
       "    }\n",
       "\n",
       "    .dataframe tbody tr th {\n",
       "        vertical-align: top;\n",
       "    }\n",
       "\n",
       "    .dataframe thead th {\n",
       "        text-align: right;\n",
       "    }\n",
       "</style>\n",
       "<table border=\"1\" class=\"dataframe\">\n",
       "  <thead>\n",
       "    <tr style=\"text-align: right;\">\n",
       "      <th></th>\n",
       "      <th>RoundNum</th>\n",
       "    </tr>\n",
       "    <tr>\n",
       "      <th>WinningSide</th>\n",
       "      <th></th>\n",
       "    </tr>\n",
       "  </thead>\n",
       "  <tbody>\n",
       "    <tr>\n",
       "      <th>CT</th>\n",
       "      <td>0.474391</td>\n",
       "    </tr>\n",
       "    <tr>\n",
       "      <th>T</th>\n",
       "      <td>0.525609</td>\n",
       "    </tr>\n",
       "  </tbody>\n",
       "</table>\n",
       "</div>"
      ],
      "text/plain": [
       "             RoundNum\n",
       "WinningSide          \n",
       "CT           0.474391\n",
       "T            0.525609"
      ]
     },
     "execution_count": 1,
     "metadata": {},
     "output_type": "execute_result"
    }
   ],
   "source": [
    "# ideas: map-based, player count based, logreg, peterx's stuff\n",
    "import pandas as pd\n",
    "from sklearn.metrics import roc_auc_score, log_loss\n",
    "\n",
    "map_data = pd.read_csv('G:/datasets/csgo/csgo_rounds_dust2.csv', usecols=['RoundNum', 'WinningSide'])\n",
    "map_baseline = map_data.groupby('WinningSide').agg({'RoundNum': 'count'})\n",
    "map_baseline = map_baseline / map_baseline.sum(axis=0)\n",
    "map_baseline"
   ]
  },
  {
   "cell_type": "code",
   "execution_count": 2,
   "metadata": {},
   "outputs": [
    {
     "name": "stdout",
     "output_type": "stream",
     "text": [
      "0.5\n",
      "16.38489957117866\n"
     ]
    }
   ],
   "source": [
    "import numpy as np\n",
    "\n",
    "print(roc_auc_score(map_data['WinningSide'] == 'CT', np.zeros(map_data.shape[0])))\n",
    "print(log_loss(map_data['WinningSide'] == 'CT', np.zeros(map_data.shape[0])))\n",
    "del map_data"
   ]
  },
  {
   "cell_type": "code",
   "execution_count": 3,
   "metadata": {},
   "outputs": [
    {
     "data": {
      "text/html": [
       "<div>\n",
       "<style scoped>\n",
       "    .dataframe tbody tr th:only-of-type {\n",
       "        vertical-align: middle;\n",
       "    }\n",
       "\n",
       "    .dataframe tbody tr th {\n",
       "        vertical-align: top;\n",
       "    }\n",
       "\n",
       "    .dataframe thead th {\n",
       "        text-align: right;\n",
       "    }\n",
       "</style>\n",
       "<table border=\"1\" class=\"dataframe\">\n",
       "  <thead>\n",
       "    <tr style=\"text-align: right;\">\n",
       "      <th></th>\n",
       "      <th>MatchId</th>\n",
       "      <th>RoundNum</th>\n",
       "      <th>Side</th>\n",
       "      <th>Tick</th>\n",
       "      <th>IsAlive</th>\n",
       "      <th>WinningSide</th>\n",
       "    </tr>\n",
       "  </thead>\n",
       "  <tbody>\n",
       "    <tr>\n",
       "      <th>0</th>\n",
       "      <td>4</td>\n",
       "      <td>1</td>\n",
       "      <td>CT</td>\n",
       "      <td>15257</td>\n",
       "      <td>5</td>\n",
       "      <td>1</td>\n",
       "    </tr>\n",
       "    <tr>\n",
       "      <th>1</th>\n",
       "      <td>4</td>\n",
       "      <td>1</td>\n",
       "      <td>CT</td>\n",
       "      <td>15290</td>\n",
       "      <td>5</td>\n",
       "      <td>1</td>\n",
       "    </tr>\n",
       "    <tr>\n",
       "      <th>2</th>\n",
       "      <td>4</td>\n",
       "      <td>1</td>\n",
       "      <td>CT</td>\n",
       "      <td>15323</td>\n",
       "      <td>5</td>\n",
       "      <td>1</td>\n",
       "    </tr>\n",
       "    <tr>\n",
       "      <th>3</th>\n",
       "      <td>4</td>\n",
       "      <td>1</td>\n",
       "      <td>CT</td>\n",
       "      <td>15356</td>\n",
       "      <td>5</td>\n",
       "      <td>1</td>\n",
       "    </tr>\n",
       "    <tr>\n",
       "      <th>4</th>\n",
       "      <td>4</td>\n",
       "      <td>1</td>\n",
       "      <td>CT</td>\n",
       "      <td>15389</td>\n",
       "      <td>5</td>\n",
       "      <td>1</td>\n",
       "    </tr>\n",
       "    <tr>\n",
       "      <th>...</th>\n",
       "      <td>...</td>\n",
       "      <td>...</td>\n",
       "      <td>...</td>\n",
       "      <td>...</td>\n",
       "      <td>...</td>\n",
       "      <td>...</td>\n",
       "    </tr>\n",
       "    <tr>\n",
       "      <th>2131902</th>\n",
       "      <td>1892</td>\n",
       "      <td>22</td>\n",
       "      <td>T</td>\n",
       "      <td>306530</td>\n",
       "      <td>1</td>\n",
       "      <td>1</td>\n",
       "    </tr>\n",
       "    <tr>\n",
       "      <th>2131903</th>\n",
       "      <td>1892</td>\n",
       "      <td>22</td>\n",
       "      <td>T</td>\n",
       "      <td>306596</td>\n",
       "      <td>1</td>\n",
       "      <td>1</td>\n",
       "    </tr>\n",
       "    <tr>\n",
       "      <th>2131904</th>\n",
       "      <td>1892</td>\n",
       "      <td>22</td>\n",
       "      <td>T</td>\n",
       "      <td>306662</td>\n",
       "      <td>1</td>\n",
       "      <td>1</td>\n",
       "    </tr>\n",
       "    <tr>\n",
       "      <th>2131905</th>\n",
       "      <td>1892</td>\n",
       "      <td>22</td>\n",
       "      <td>T</td>\n",
       "      <td>306728</td>\n",
       "      <td>1</td>\n",
       "      <td>1</td>\n",
       "    </tr>\n",
       "    <tr>\n",
       "      <th>2131906</th>\n",
       "      <td>1892</td>\n",
       "      <td>22</td>\n",
       "      <td>T</td>\n",
       "      <td>306794</td>\n",
       "      <td>1</td>\n",
       "      <td>1</td>\n",
       "    </tr>\n",
       "  </tbody>\n",
       "</table>\n",
       "<p>2131907 rows × 6 columns</p>\n",
       "</div>"
      ],
      "text/plain": [
       "         MatchId  RoundNum Side    Tick  IsAlive  WinningSide\n",
       "0              4         1   CT   15257        5            1\n",
       "1              4         1   CT   15290        5            1\n",
       "2              4         1   CT   15323        5            1\n",
       "3              4         1   CT   15356        5            1\n",
       "4              4         1   CT   15389        5            1\n",
       "...          ...       ...  ...     ...      ...          ...\n",
       "2131902     1892        22    T  306530        1            1\n",
       "2131903     1892        22    T  306596        1            1\n",
       "2131904     1892        22    T  306662        1            1\n",
       "2131905     1892        22    T  306728        1            1\n",
       "2131906     1892        22    T  306794        1            1\n",
       "\n",
       "[2131907 rows x 6 columns]"
      ]
     },
     "execution_count": 3,
     "metadata": {},
     "output_type": "execute_result"
    }
   ],
   "source": [
    "# player count based\n",
    "import pandas as pd\n",
    "\n",
    "player_data = pd.read_csv('G:/datasets/csgo/csgo_playerframes_dust2.csv',\n",
    "                          names=['MatchId',\n",
    "                              'MapName',\n",
    "                              'RoundNum',\n",
    "                              'Tick',\n",
    "                              'Second',\n",
    "                              'PlayerId',\n",
    "                              'PlayerSteamId',\n",
    "                              'TeamId',\n",
    "                              'Side',\n",
    "                              'X',\n",
    "                              'Y',\n",
    "                              'Z',\n",
    "                              'ViewX',\n",
    "                              'ViewY',\n",
    "                              'AreaId',\n",
    "                              'Hp',\n",
    "                              'Armor',\n",
    "                              'IsAlive',\n",
    "                              'IsFlashed',\n",
    "                              'IsAirborne',\n",
    "                              'IsDucking',\n",
    "                              'IsScoped',\n",
    "                              'IsWalking',\n",
    "                              'EqValue',\n",
    "                              'HasHelmet',\n",
    "                              'HasDefuse',\n",
    "                              'DistToBombsiteA',\n",
    "                              'DistToBombsiteB',\n",
    "                              'Created',\n",
    "                              'Updated'],\n",
    "                          usecols=['MatchId', 'RoundNum', 'Tick', 'Side', 'IsAlive'])\n",
    "player_data['IsAlive'] = player_data['IsAlive'].astype(int)\n",
    "results = pd.read_csv('G:/datasets/csgo/csgo_rounds_dust2.csv', usecols=['MatchId', 'RoundNum', 'WinningSide'])\n",
    "player_data = pd.merge(player_data, results, on=['MatchId', 'RoundNum'])\n",
    "del results\n",
    "player_data['WinningSide'] = (player_data['WinningSide'] == 'CT').astype(int)\n",
    "player_data = player_data.groupby(['MatchId',\n",
    "                                       'RoundNum',\n",
    "                                       'Side',\n",
    "                                       'Tick',\n",
    "                                      ],\n",
    "                                      as_index=False).agg({'IsAlive': 'sum', 'WinningSide': 'max'})\n",
    "player_data"
   ]
  },
  {
   "cell_type": "code",
   "execution_count": 4,
   "metadata": {},
   "outputs": [
    {
     "data": {
      "text/html": [
       "<div>\n",
       "<style scoped>\n",
       "    .dataframe tbody tr th:only-of-type {\n",
       "        vertical-align: middle;\n",
       "    }\n",
       "\n",
       "    .dataframe tbody tr th {\n",
       "        vertical-align: top;\n",
       "    }\n",
       "\n",
       "    .dataframe thead tr th {\n",
       "        text-align: left;\n",
       "    }\n",
       "\n",
       "    .dataframe thead tr:last-of-type th {\n",
       "        text-align: right;\n",
       "    }\n",
       "</style>\n",
       "<table border=\"1\" class=\"dataframe\">\n",
       "  <thead>\n",
       "    <tr>\n",
       "      <th></th>\n",
       "      <th></th>\n",
       "      <th></th>\n",
       "      <th colspan=\"2\" halign=\"left\">IsAlive</th>\n",
       "      <th>Winner</th>\n",
       "    </tr>\n",
       "    <tr>\n",
       "      <th></th>\n",
       "      <th></th>\n",
       "      <th>Side</th>\n",
       "      <th>CT</th>\n",
       "      <th>T</th>\n",
       "      <th></th>\n",
       "    </tr>\n",
       "    <tr>\n",
       "      <th>MatchId</th>\n",
       "      <th>RoundNum</th>\n",
       "      <th>Tick</th>\n",
       "      <th></th>\n",
       "      <th></th>\n",
       "      <th></th>\n",
       "    </tr>\n",
       "  </thead>\n",
       "  <tbody>\n",
       "    <tr>\n",
       "      <th rowspan=\"5\" valign=\"top\">4</th>\n",
       "      <th rowspan=\"5\" valign=\"top\">1</th>\n",
       "      <th>15257</th>\n",
       "      <td>5.0</td>\n",
       "      <td>5.0</td>\n",
       "      <td>1</td>\n",
       "    </tr>\n",
       "    <tr>\n",
       "      <th>15290</th>\n",
       "      <td>5.0</td>\n",
       "      <td>5.0</td>\n",
       "      <td>1</td>\n",
       "    </tr>\n",
       "    <tr>\n",
       "      <th>15323</th>\n",
       "      <td>5.0</td>\n",
       "      <td>5.0</td>\n",
       "      <td>1</td>\n",
       "    </tr>\n",
       "    <tr>\n",
       "      <th>15356</th>\n",
       "      <td>5.0</td>\n",
       "      <td>5.0</td>\n",
       "      <td>1</td>\n",
       "    </tr>\n",
       "    <tr>\n",
       "      <th>15389</th>\n",
       "      <td>5.0</td>\n",
       "      <td>5.0</td>\n",
       "      <td>1</td>\n",
       "    </tr>\n",
       "    <tr>\n",
       "      <th>...</th>\n",
       "      <th>...</th>\n",
       "      <th>...</th>\n",
       "      <td>...</td>\n",
       "      <td>...</td>\n",
       "      <td>...</td>\n",
       "    </tr>\n",
       "    <tr>\n",
       "      <th rowspan=\"5\" valign=\"top\">1892</th>\n",
       "      <th rowspan=\"5\" valign=\"top\">22</th>\n",
       "      <th>306530</th>\n",
       "      <td>3.0</td>\n",
       "      <td>1.0</td>\n",
       "      <td>1</td>\n",
       "    </tr>\n",
       "    <tr>\n",
       "      <th>306596</th>\n",
       "      <td>3.0</td>\n",
       "      <td>1.0</td>\n",
       "      <td>1</td>\n",
       "    </tr>\n",
       "    <tr>\n",
       "      <th>306662</th>\n",
       "      <td>3.0</td>\n",
       "      <td>1.0</td>\n",
       "      <td>1</td>\n",
       "    </tr>\n",
       "    <tr>\n",
       "      <th>306728</th>\n",
       "      <td>3.0</td>\n",
       "      <td>1.0</td>\n",
       "      <td>1</td>\n",
       "    </tr>\n",
       "    <tr>\n",
       "      <th>306794</th>\n",
       "      <td>3.0</td>\n",
       "      <td>1.0</td>\n",
       "      <td>1</td>\n",
       "    </tr>\n",
       "  </tbody>\n",
       "</table>\n",
       "<p>1069034 rows × 3 columns</p>\n",
       "</div>"
      ],
      "text/plain": [
       "                        IsAlive      Winner\n",
       "Side                         CT    T       \n",
       "MatchId RoundNum Tick                      \n",
       "4       1        15257      5.0  5.0      1\n",
       "                 15290      5.0  5.0      1\n",
       "                 15323      5.0  5.0      1\n",
       "                 15356      5.0  5.0      1\n",
       "                 15389      5.0  5.0      1\n",
       "...                         ...  ...    ...\n",
       "1892    22       306530     3.0  1.0      1\n",
       "                 306596     3.0  1.0      1\n",
       "                 306662     3.0  1.0      1\n",
       "                 306728     3.0  1.0      1\n",
       "                 306794     3.0  1.0      1\n",
       "\n",
       "[1069034 rows x 3 columns]"
      ]
     },
     "execution_count": 4,
     "metadata": {},
     "output_type": "execute_result"
    }
   ],
   "source": [
    "pivoted = player_data.pivot_table(index=['MatchId', 'RoundNum', 'Tick'], values=['IsAlive'], columns=['Side'])\n",
    "pivoted['Winner'] = player_data.groupby(['MatchId', 'RoundNum', 'Tick']).agg({'WinningSide': 'max'})['WinningSide']\n",
    "pivoted"
   ]
  },
  {
   "cell_type": "code",
   "execution_count": 5,
   "metadata": {},
   "outputs": [
    {
     "data": {
      "text/plain": [
       "Int64Index([   4,   15,   21,   26,   28,   29,   37,   38,   41,   47,\n",
       "            ...\n",
       "            1676, 1677, 1690, 1693, 1698, 1786, 1799, 1853, 1878, 1892],\n",
       "           dtype='int64', name='MatchId', length=173)"
      ]
     },
     "execution_count": 5,
     "metadata": {},
     "output_type": "execute_result"
    }
   ],
   "source": [
    "pivoted.index.levels[0]"
   ]
  },
  {
   "cell_type": "code",
   "execution_count": 6,
   "metadata": {},
   "outputs": [
    {
     "name": "stdout",
     "output_type": "stream",
     "text": [
      "1069034 840727 228307\n"
     ]
    }
   ],
   "source": [
    "import numpy as np\n",
    "\n",
    "mask = np.random.choice(pivoted.index.levels[0], replace=False, size=int(pivoted.index.levels[0].shape[0] * 0.8))\n",
    "pivoted.reset_index(drop=False, inplace=True)\n",
    "train, test = pivoted[pivoted['MatchId'].isin(mask)], pivoted[~pivoted['MatchId'].isin(mask)]\n",
    "print(pivoted.shape[0], train.shape[0], test.shape[0])"
   ]
  },
  {
   "cell_type": "code",
   "execution_count": 7,
   "metadata": {},
   "outputs": [],
   "source": [
    "import seaborn as sns\n",
    "\n",
    "player_baseline = train.groupby([('IsAlive', 'CT'), ('IsAlive', 'T')], as_index=False).agg({('Winner', ''): 'mean'})\n",
    "player_baseline.columns = ['CT count', 'T count', 'Win probability']\n",
    "player_baseline_pivoted = player_baseline.pivot('CT count', 'T count', 'Win probability')"
   ]
  },
  {
   "cell_type": "code",
   "execution_count": 8,
   "metadata": {},
   "outputs": [
    {
     "data": {
      "image/png": "[encoded data removed]",
      "text/plain": [
       "<Figure size 432x288 with 2 Axes>"
      ]
     },
     "metadata": {},
     "output_type": "display_data"
    }
   ],
   "source": [
    "sns.heatmap(data=player_baseline_pivoted[::-1], annot=True);"
   ]
  },
  {
   "cell_type": "code",
   "execution_count": 9,
   "metadata": {},
   "outputs": [
    {
     "data": {
      "text/html": [
       "<div>\n",
       "<style scoped>\n",
       "    .dataframe tbody tr th:only-of-type {\n",
       "        vertical-align: middle;\n",
       "    }\n",
       "\n",
       "    .dataframe tbody tr th {\n",
       "        vertical-align: top;\n",
       "    }\n",
       "\n",
       "    .dataframe thead th {\n",
       "        text-align: right;\n",
       "    }\n",
       "</style>\n",
       "<table border=\"1\" class=\"dataframe\">\n",
       "  <thead>\n",
       "    <tr style=\"text-align: right;\">\n",
       "      <th></th>\n",
       "      <th>CT count</th>\n",
       "      <th>T count</th>\n",
       "      <th>Win probability</th>\n",
       "    </tr>\n",
       "  </thead>\n",
       "  <tbody>\n",
       "    <tr>\n",
       "      <th>0</th>\n",
       "      <td>0.0</td>\n",
       "      <td>0.0</td>\n",
       "      <td>0.647826</td>\n",
       "    </tr>\n",
       "    <tr>\n",
       "      <th>1</th>\n",
       "      <td>0.0</td>\n",
       "      <td>1.0</td>\n",
       "      <td>0.191748</td>\n",
       "    </tr>\n",
       "    <tr>\n",
       "      <th>2</th>\n",
       "      <td>0.0</td>\n",
       "      <td>2.0</td>\n",
       "      <td>0.139085</td>\n",
       "    </tr>\n",
       "    <tr>\n",
       "      <th>3</th>\n",
       "      <td>0.0</td>\n",
       "      <td>3.0</td>\n",
       "      <td>0.064767</td>\n",
       "    </tr>\n",
       "    <tr>\n",
       "      <th>4</th>\n",
       "      <td>0.0</td>\n",
       "      <td>4.0</td>\n",
       "      <td>0.009368</td>\n",
       "    </tr>\n",
       "    <tr>\n",
       "      <th>5</th>\n",
       "      <td>0.0</td>\n",
       "      <td>5.0</td>\n",
       "      <td>0.337838</td>\n",
       "    </tr>\n",
       "    <tr>\n",
       "      <th>6</th>\n",
       "      <td>1.0</td>\n",
       "      <td>0.0</td>\n",
       "      <td>0.749311</td>\n",
       "    </tr>\n",
       "    <tr>\n",
       "      <th>7</th>\n",
       "      <td>1.0</td>\n",
       "      <td>1.0</td>\n",
       "      <td>0.295594</td>\n",
       "    </tr>\n",
       "    <tr>\n",
       "      <th>8</th>\n",
       "      <td>1.0</td>\n",
       "      <td>2.0</td>\n",
       "      <td>0.068938</td>\n",
       "    </tr>\n",
       "    <tr>\n",
       "      <th>9</th>\n",
       "      <td>1.0</td>\n",
       "      <td>3.0</td>\n",
       "      <td>0.018865</td>\n",
       "    </tr>\n",
       "    <tr>\n",
       "      <th>10</th>\n",
       "      <td>1.0</td>\n",
       "      <td>4.0</td>\n",
       "      <td>0.002529</td>\n",
       "    </tr>\n",
       "    <tr>\n",
       "      <th>11</th>\n",
       "      <td>1.0</td>\n",
       "      <td>5.0</td>\n",
       "      <td>0.002117</td>\n",
       "    </tr>\n",
       "    <tr>\n",
       "      <th>12</th>\n",
       "      <td>2.0</td>\n",
       "      <td>0.0</td>\n",
       "      <td>0.919903</td>\n",
       "    </tr>\n",
       "    <tr>\n",
       "      <th>13</th>\n",
       "      <td>2.0</td>\n",
       "      <td>1.0</td>\n",
       "      <td>0.739738</td>\n",
       "    </tr>\n",
       "    <tr>\n",
       "      <th>14</th>\n",
       "      <td>2.0</td>\n",
       "      <td>2.0</td>\n",
       "      <td>0.321526</td>\n",
       "    </tr>\n",
       "    <tr>\n",
       "      <th>15</th>\n",
       "      <td>2.0</td>\n",
       "      <td>3.0</td>\n",
       "      <td>0.086343</td>\n",
       "    </tr>\n",
       "    <tr>\n",
       "      <th>16</th>\n",
       "      <td>2.0</td>\n",
       "      <td>4.0</td>\n",
       "      <td>0.068196</td>\n",
       "    </tr>\n",
       "    <tr>\n",
       "      <th>17</th>\n",
       "      <td>2.0</td>\n",
       "      <td>5.0</td>\n",
       "      <td>0.005225</td>\n",
       "    </tr>\n",
       "    <tr>\n",
       "      <th>18</th>\n",
       "      <td>3.0</td>\n",
       "      <td>0.0</td>\n",
       "      <td>0.930149</td>\n",
       "    </tr>\n",
       "    <tr>\n",
       "      <th>19</th>\n",
       "      <td>3.0</td>\n",
       "      <td>1.0</td>\n",
       "      <td>0.904065</td>\n",
       "    </tr>\n",
       "    <tr>\n",
       "      <th>20</th>\n",
       "      <td>3.0</td>\n",
       "      <td>2.0</td>\n",
       "      <td>0.609385</td>\n",
       "    </tr>\n",
       "    <tr>\n",
       "      <th>21</th>\n",
       "      <td>3.0</td>\n",
       "      <td>3.0</td>\n",
       "      <td>0.348066</td>\n",
       "    </tr>\n",
       "    <tr>\n",
       "      <th>22</th>\n",
       "      <td>3.0</td>\n",
       "      <td>4.0</td>\n",
       "      <td>0.133202</td>\n",
       "    </tr>\n",
       "    <tr>\n",
       "      <th>23</th>\n",
       "      <td>3.0</td>\n",
       "      <td>5.0</td>\n",
       "      <td>0.072199</td>\n",
       "    </tr>\n",
       "    <tr>\n",
       "      <th>24</th>\n",
       "      <td>4.0</td>\n",
       "      <td>0.0</td>\n",
       "      <td>0.914416</td>\n",
       "    </tr>\n",
       "    <tr>\n",
       "      <th>25</th>\n",
       "      <td>4.0</td>\n",
       "      <td>1.0</td>\n",
       "      <td>0.928820</td>\n",
       "    </tr>\n",
       "    <tr>\n",
       "      <th>26</th>\n",
       "      <td>4.0</td>\n",
       "      <td>2.0</td>\n",
       "      <td>0.801678</td>\n",
       "    </tr>\n",
       "    <tr>\n",
       "      <th>27</th>\n",
       "      <td>4.0</td>\n",
       "      <td>3.0</td>\n",
       "      <td>0.563250</td>\n",
       "    </tr>\n",
       "    <tr>\n",
       "      <th>28</th>\n",
       "      <td>4.0</td>\n",
       "      <td>4.0</td>\n",
       "      <td>0.388412</td>\n",
       "    </tr>\n",
       "    <tr>\n",
       "      <th>29</th>\n",
       "      <td>4.0</td>\n",
       "      <td>5.0</td>\n",
       "      <td>0.264632</td>\n",
       "    </tr>\n",
       "    <tr>\n",
       "      <th>30</th>\n",
       "      <td>5.0</td>\n",
       "      <td>0.0</td>\n",
       "      <td>0.881131</td>\n",
       "    </tr>\n",
       "    <tr>\n",
       "      <th>31</th>\n",
       "      <td>5.0</td>\n",
       "      <td>1.0</td>\n",
       "      <td>0.823868</td>\n",
       "    </tr>\n",
       "    <tr>\n",
       "      <th>32</th>\n",
       "      <td>5.0</td>\n",
       "      <td>2.0</td>\n",
       "      <td>0.880390</td>\n",
       "    </tr>\n",
       "    <tr>\n",
       "      <th>33</th>\n",
       "      <td>5.0</td>\n",
       "      <td>3.0</td>\n",
       "      <td>0.756279</td>\n",
       "    </tr>\n",
       "    <tr>\n",
       "      <th>34</th>\n",
       "      <td>5.0</td>\n",
       "      <td>4.0</td>\n",
       "      <td>0.578517</td>\n",
       "    </tr>\n",
       "    <tr>\n",
       "      <th>35</th>\n",
       "      <td>5.0</td>\n",
       "      <td>5.0</td>\n",
       "      <td>0.488413</td>\n",
       "    </tr>\n",
       "  </tbody>\n",
       "</table>\n",
       "</div>"
      ],
      "text/plain": [
       "    CT count  T count  Win probability\n",
       "0        0.0      0.0         0.647826\n",
       "1        0.0      1.0         0.191748\n",
       "2        0.0      2.0         0.139085\n",
       "3        0.0      3.0         0.064767\n",
       "4        0.0      4.0         0.009368\n",
       "5        0.0      5.0         0.337838\n",
       "6        1.0      0.0         0.749311\n",
       "7        1.0      1.0         0.295594\n",
       "8        1.0      2.0         0.068938\n",
       "9        1.0      3.0         0.018865\n",
       "10       1.0      4.0         0.002529\n",
       "11       1.0      5.0         0.002117\n",
       "12       2.0      0.0         0.919903\n",
       "13       2.0      1.0         0.739738\n",
       "14       2.0      2.0         0.321526\n",
       "15       2.0      3.0         0.086343\n",
       "16       2.0      4.0         0.068196\n",
       "17       2.0      5.0         0.005225\n",
       "18       3.0      0.0         0.930149\n",
       "19       3.0      1.0         0.904065\n",
       "20       3.0      2.0         0.609385\n",
       "21       3.0      3.0         0.348066\n",
       "22       3.0      4.0         0.133202\n",
       "23       3.0      5.0         0.072199\n",
       "24       4.0      0.0         0.914416\n",
       "25       4.0      1.0         0.928820\n",
       "26       4.0      2.0         0.801678\n",
       "27       4.0      3.0         0.563250\n",
       "28       4.0      4.0         0.388412\n",
       "29       4.0      5.0         0.264632\n",
       "30       5.0      0.0         0.881131\n",
       "31       5.0      1.0         0.823868\n",
       "32       5.0      2.0         0.880390\n",
       "33       5.0      3.0         0.756279\n",
       "34       5.0      4.0         0.578517\n",
       "35       5.0      5.0         0.488413"
      ]
     },
     "execution_count": 9,
     "metadata": {},
     "output_type": "execute_result"
    }
   ],
   "source": [
    "player_baseline"
   ]
  },
  {
   "cell_type": "code",
   "execution_count": 10,
   "metadata": {},
   "outputs": [
    {
     "data": {
      "text/html": [
       "<div>\n",
       "<style scoped>\n",
       "    .dataframe tbody tr th:only-of-type {\n",
       "        vertical-align: middle;\n",
       "    }\n",
       "\n",
       "    .dataframe tbody tr th {\n",
       "        vertical-align: top;\n",
       "    }\n",
       "\n",
       "    .dataframe thead th {\n",
       "        text-align: right;\n",
       "    }\n",
       "</style>\n",
       "<table border=\"1\" class=\"dataframe\">\n",
       "  <thead>\n",
       "    <tr style=\"text-align: right;\">\n",
       "      <th></th>\n",
       "      <th>CT count</th>\n",
       "      <th>T count</th>\n",
       "      <th>truth</th>\n",
       "      <th>Win probability</th>\n",
       "    </tr>\n",
       "  </thead>\n",
       "  <tbody>\n",
       "    <tr>\n",
       "      <th>0</th>\n",
       "      <td>5.0</td>\n",
       "      <td>2.0</td>\n",
       "      <td>1</td>\n",
       "      <td>0.880390</td>\n",
       "    </tr>\n",
       "    <tr>\n",
       "      <th>1</th>\n",
       "      <td>5.0</td>\n",
       "      <td>2.0</td>\n",
       "      <td>1</td>\n",
       "      <td>0.880390</td>\n",
       "    </tr>\n",
       "    <tr>\n",
       "      <th>2</th>\n",
       "      <td>5.0</td>\n",
       "      <td>2.0</td>\n",
       "      <td>1</td>\n",
       "      <td>0.880390</td>\n",
       "    </tr>\n",
       "    <tr>\n",
       "      <th>3</th>\n",
       "      <td>5.0</td>\n",
       "      <td>2.0</td>\n",
       "      <td>1</td>\n",
       "      <td>0.880390</td>\n",
       "    </tr>\n",
       "    <tr>\n",
       "      <th>4</th>\n",
       "      <td>5.0</td>\n",
       "      <td>2.0</td>\n",
       "      <td>1</td>\n",
       "      <td>0.880390</td>\n",
       "    </tr>\n",
       "    <tr>\n",
       "      <th>...</th>\n",
       "      <td>...</td>\n",
       "      <td>...</td>\n",
       "      <td>...</td>\n",
       "      <td>...</td>\n",
       "    </tr>\n",
       "    <tr>\n",
       "      <th>227909</th>\n",
       "      <td>0.0</td>\n",
       "      <td>5.0</td>\n",
       "      <td>0</td>\n",
       "      <td>0.337838</td>\n",
       "    </tr>\n",
       "    <tr>\n",
       "      <th>227910</th>\n",
       "      <td>0.0</td>\n",
       "      <td>5.0</td>\n",
       "      <td>0</td>\n",
       "      <td>0.337838</td>\n",
       "    </tr>\n",
       "    <tr>\n",
       "      <th>227911</th>\n",
       "      <td>0.0</td>\n",
       "      <td>5.0</td>\n",
       "      <td>0</td>\n",
       "      <td>0.337838</td>\n",
       "    </tr>\n",
       "    <tr>\n",
       "      <th>227912</th>\n",
       "      <td>0.0</td>\n",
       "      <td>5.0</td>\n",
       "      <td>0</td>\n",
       "      <td>0.337838</td>\n",
       "    </tr>\n",
       "    <tr>\n",
       "      <th>227913</th>\n",
       "      <td>0.0</td>\n",
       "      <td>5.0</td>\n",
       "      <td>0</td>\n",
       "      <td>0.337838</td>\n",
       "    </tr>\n",
       "  </tbody>\n",
       "</table>\n",
       "<p>227914 rows × 4 columns</p>\n",
       "</div>"
      ],
      "text/plain": [
       "        CT count  T count  truth  Win probability\n",
       "0            5.0      2.0      1         0.880390\n",
       "1            5.0      2.0      1         0.880390\n",
       "2            5.0      2.0      1         0.880390\n",
       "3            5.0      2.0      1         0.880390\n",
       "4            5.0      2.0      1         0.880390\n",
       "...          ...      ...    ...              ...\n",
       "227909       0.0      5.0      0         0.337838\n",
       "227910       0.0      5.0      0         0.337838\n",
       "227911       0.0      5.0      0         0.337838\n",
       "227912       0.0      5.0      0         0.337838\n",
       "227913       0.0      5.0      0         0.337838\n",
       "\n",
       "[227914 rows x 4 columns]"
      ]
     },
     "execution_count": 10,
     "metadata": {},
     "output_type": "execute_result"
    }
   ],
   "source": [
    "test = test[[('IsAlive', 'CT'), ('IsAlive', 'T'), ('Winner', '')]]\n",
    "test.columns = ['CT count', 'T count', 'truth']\n",
    "\n",
    "preds = pd.merge(test, player_baseline, on=['CT count', 'T count'])\n",
    "preds"
   ]
  },
  {
   "cell_type": "code",
   "execution_count": 11,
   "metadata": {},
   "outputs": [
    {
     "name": "stdout",
     "output_type": "stream",
     "text": [
      "AUC: 0.774313639605856\n",
      "Log loss: 0.550037538559992\n"
     ]
    }
   ],
   "source": [
    "print(f'AUC: {roc_auc_score(preds[\"truth\"], preds[\"Win probability\"])}')\n",
    "print(f'Log loss: {log_loss(preds[\"truth\"], preds[\"Win probability\"])}')"
   ]
  },
  {
   "cell_type": "code",
   "execution_count": 12,
   "metadata": {},
   "outputs": [
    {
     "data": {
      "text/plain": [
       "0.6966311854471423"
      ]
     },
     "execution_count": 12,
     "metadata": {},
     "output_type": "execute_result"
    }
   ],
   "source": [
    "from sklearn.metrics import accuracy_score\n",
    "\n",
    "accuracy_score(preds['truth'], preds['Win probability'] > 0.5)"
   ]
  },
  {
   "cell_type": "code",
   "execution_count": 13,
   "metadata": {},
   "outputs": [],
   "source": [
    "# WOAH. what is that??? that can't be right\n",
    "\n",
    "from sklearn.metrics import roc_curve\n",
    "\n",
    "fpr, tpr, _ = roc_curve(preds['truth'], preds['Win probability'])"
   ]
  },
  {
   "cell_type": "code",
   "execution_count": 14,
   "metadata": {},
   "outputs": [
    {
     "data": {
      "image/png": "[encoded data removed]",
      "text/plain": [
       "<Figure size 720x504 with 1 Axes>"
      ]
     },
     "metadata": {},
     "output_type": "display_data"
    }
   ],
   "source": [
    "import matplotlib.pyplot as plt\n",
    "%matplotlib inline\n",
    "\n",
    "plt.figure(figsize=(10, 7))\n",
    "plt.plot(fpr, tpr)\n",
    "plt.plot([0, 1], [0, 1], 'k--')\n",
    "plt.xlabel('FPR')\n",
    "plt.ylabel('TPR')\n",
    "plt.xlim([0, 1])\n",
    "plt.ylim([0, 1])\n",
    "plt.title('ROC curve of players alive baseline model');"
   ]
  },
  {
   "cell_type": "code",
   "execution_count": 15,
   "metadata": {},
   "outputs": [
    {
     "data": {
      "text/html": [
       "<div>\n",
       "<style scoped>\n",
       "    .dataframe tbody tr th:only-of-type {\n",
       "        vertical-align: middle;\n",
       "    }\n",
       "\n",
       "    .dataframe tbody tr th {\n",
       "        vertical-align: top;\n",
       "    }\n",
       "\n",
       "    .dataframe thead th {\n",
       "        text-align: right;\n",
       "    }\n",
       "</style>\n",
       "<table border=\"1\" class=\"dataframe\">\n",
       "  <thead>\n",
       "    <tr style=\"text-align: right;\">\n",
       "      <th></th>\n",
       "      <th>MatchId</th>\n",
       "      <th>RoundNum</th>\n",
       "      <th>Tick</th>\n",
       "      <th>CT count</th>\n",
       "      <th>T count</th>\n",
       "      <th>Winner</th>\n",
       "    </tr>\n",
       "  </thead>\n",
       "  <tbody>\n",
       "    <tr>\n",
       "      <th>0</th>\n",
       "      <td>4</td>\n",
       "      <td>1</td>\n",
       "      <td>15257</td>\n",
       "      <td>5.0</td>\n",
       "      <td>5.0</td>\n",
       "      <td>1</td>\n",
       "    </tr>\n",
       "    <tr>\n",
       "      <th>1</th>\n",
       "      <td>4</td>\n",
       "      <td>1</td>\n",
       "      <td>15290</td>\n",
       "      <td>5.0</td>\n",
       "      <td>5.0</td>\n",
       "      <td>1</td>\n",
       "    </tr>\n",
       "    <tr>\n",
       "      <th>2</th>\n",
       "      <td>4</td>\n",
       "      <td>1</td>\n",
       "      <td>15323</td>\n",
       "      <td>5.0</td>\n",
       "      <td>5.0</td>\n",
       "      <td>1</td>\n",
       "    </tr>\n",
       "    <tr>\n",
       "      <th>3</th>\n",
       "      <td>4</td>\n",
       "      <td>1</td>\n",
       "      <td>15356</td>\n",
       "      <td>5.0</td>\n",
       "      <td>5.0</td>\n",
       "      <td>1</td>\n",
       "    </tr>\n",
       "    <tr>\n",
       "      <th>4</th>\n",
       "      <td>4</td>\n",
       "      <td>1</td>\n",
       "      <td>15389</td>\n",
       "      <td>5.0</td>\n",
       "      <td>5.0</td>\n",
       "      <td>1</td>\n",
       "    </tr>\n",
       "  </tbody>\n",
       "</table>\n",
       "</div>"
      ],
      "text/plain": [
       "   MatchId  RoundNum   Tick  CT count  T count  Winner\n",
       "0        4         1  15257       5.0      5.0       1\n",
       "1        4         1  15290       5.0      5.0       1\n",
       "2        4         1  15323       5.0      5.0       1\n",
       "3        4         1  15356       5.0      5.0       1\n",
       "4        4         1  15389       5.0      5.0       1"
      ]
     },
     "execution_count": 15,
     "metadata": {},
     "output_type": "execute_result"
    }
   ],
   "source": [
    "# examine what is up with the weird numbers for 0 ct's\n",
    "\n",
    "train.columns = ['MatchId', 'RoundNum', 'Tick', 'CT count', 'T count', 'Winner']\n",
    "train.head()"
   ]
  },
  {
   "cell_type": "code",
   "execution_count": 16,
   "metadata": {},
   "outputs": [
    {
     "data": {
      "text/html": [
       "<div>\n",
       "<style scoped>\n",
       "    .dataframe tbody tr th:only-of-type {\n",
       "        vertical-align: middle;\n",
       "    }\n",
       "\n",
       "    .dataframe tbody tr th {\n",
       "        vertical-align: top;\n",
       "    }\n",
       "\n",
       "    .dataframe thead th {\n",
       "        text-align: right;\n",
       "    }\n",
       "</style>\n",
       "<table border=\"1\" class=\"dataframe\">\n",
       "  <thead>\n",
       "    <tr style=\"text-align: right;\">\n",
       "      <th></th>\n",
       "      <th>MatchId</th>\n",
       "      <th>RoundNum</th>\n",
       "      <th>Tick</th>\n",
       "      <th>CT count</th>\n",
       "      <th>T count</th>\n",
       "      <th>Winner</th>\n",
       "    </tr>\n",
       "  </thead>\n",
       "  <tbody>\n",
       "    <tr>\n",
       "      <th>49746</th>\n",
       "      <td>47</td>\n",
       "      <td>19</td>\n",
       "      <td>300835</td>\n",
       "      <td>0.0</td>\n",
       "      <td>5.0</td>\n",
       "      <td>0</td>\n",
       "    </tr>\n",
       "    <tr>\n",
       "      <th>49748</th>\n",
       "      <td>47</td>\n",
       "      <td>19</td>\n",
       "      <td>300901</td>\n",
       "      <td>0.0</td>\n",
       "      <td>5.0</td>\n",
       "      <td>0</td>\n",
       "    </tr>\n",
       "    <tr>\n",
       "      <th>49749</th>\n",
       "      <td>47</td>\n",
       "      <td>19</td>\n",
       "      <td>300934</td>\n",
       "      <td>0.0</td>\n",
       "      <td>5.0</td>\n",
       "      <td>0</td>\n",
       "    </tr>\n",
       "    <tr>\n",
       "      <th>49750</th>\n",
       "      <td>47</td>\n",
       "      <td>19</td>\n",
       "      <td>300967</td>\n",
       "      <td>0.0</td>\n",
       "      <td>5.0</td>\n",
       "      <td>0</td>\n",
       "    </tr>\n",
       "    <tr>\n",
       "      <th>49752</th>\n",
       "      <td>47</td>\n",
       "      <td>19</td>\n",
       "      <td>301033</td>\n",
       "      <td>0.0</td>\n",
       "      <td>5.0</td>\n",
       "      <td>0</td>\n",
       "    </tr>\n",
       "    <tr>\n",
       "      <th>...</th>\n",
       "      <td>...</td>\n",
       "      <td>...</td>\n",
       "      <td>...</td>\n",
       "      <td>...</td>\n",
       "      <td>...</td>\n",
       "      <td>...</td>\n",
       "    </tr>\n",
       "    <tr>\n",
       "      <th>883717</th>\n",
       "      <td>1506</td>\n",
       "      <td>24</td>\n",
       "      <td>383955</td>\n",
       "      <td>0.0</td>\n",
       "      <td>5.0</td>\n",
       "      <td>0</td>\n",
       "    </tr>\n",
       "    <tr>\n",
       "      <th>883718</th>\n",
       "      <td>1506</td>\n",
       "      <td>24</td>\n",
       "      <td>383988</td>\n",
       "      <td>0.0</td>\n",
       "      <td>5.0</td>\n",
       "      <td>0</td>\n",
       "    </tr>\n",
       "    <tr>\n",
       "      <th>883721</th>\n",
       "      <td>1506</td>\n",
       "      <td>24</td>\n",
       "      <td>384087</td>\n",
       "      <td>0.0</td>\n",
       "      <td>5.0</td>\n",
       "      <td>0</td>\n",
       "    </tr>\n",
       "    <tr>\n",
       "      <th>883722</th>\n",
       "      <td>1506</td>\n",
       "      <td>24</td>\n",
       "      <td>384120</td>\n",
       "      <td>0.0</td>\n",
       "      <td>5.0</td>\n",
       "      <td>0</td>\n",
       "    </tr>\n",
       "    <tr>\n",
       "      <th>883723</th>\n",
       "      <td>1506</td>\n",
       "      <td>24</td>\n",
       "      <td>384153</td>\n",
       "      <td>0.0</td>\n",
       "      <td>5.0</td>\n",
       "      <td>0</td>\n",
       "    </tr>\n",
       "  </tbody>\n",
       "</table>\n",
       "<p>74 rows × 6 columns</p>\n",
       "</div>"
      ],
      "text/plain": [
       "        MatchId  RoundNum    Tick  CT count  T count  Winner\n",
       "49746        47        19  300835       0.0      5.0       0\n",
       "49748        47        19  300901       0.0      5.0       0\n",
       "49749        47        19  300934       0.0      5.0       0\n",
       "49750        47        19  300967       0.0      5.0       0\n",
       "49752        47        19  301033       0.0      5.0       0\n",
       "...         ...       ...     ...       ...      ...     ...\n",
       "883717     1506        24  383955       0.0      5.0       0\n",
       "883718     1506        24  383988       0.0      5.0       0\n",
       "883721     1506        24  384087       0.0      5.0       0\n",
       "883722     1506        24  384120       0.0      5.0       0\n",
       "883723     1506        24  384153       0.0      5.0       0\n",
       "\n",
       "[74 rows x 6 columns]"
      ]
     },
     "execution_count": 16,
     "metadata": {},
     "output_type": "execute_result"
    }
   ],
   "source": [
    "train[(train['CT count'] == 0) & (train['T count'] == 5)]"
   ]
  },
  {
   "cell_type": "code",
   "execution_count": 1,
   "metadata": {},
   "outputs": [
    {
     "name": "stdout",
     "output_type": "stream",
     "text": [
      "Reading transformed data...\n",
      "\n",
      "Done!\n"
     ]
    }
   ],
   "source": [
    "from csgo_wp.data_transform import transform_data, CSGODataset, transform_multichannel\n",
    "import warnings\n",
    "warnings.filterwarnings('ignore')\n",
    "\n",
    "dataset = CSGODataset(transform=transform_multichannel)"
   ]
  },
  {
   "cell_type": "code",
   "execution_count": 2,
   "metadata": {},
   "outputs": [
    {
     "name": "stdout",
     "output_type": "stream",
     "text": [
      "torch.Size([409641, 6, 5, 5])\n"
     ]
    }
   ],
   "source": [
    "print(dataset.data.shape)"
   ]
  },
  {
   "cell_type": "code",
   "execution_count": 3,
   "metadata": {},
   "outputs": [
    {
     "name": "stdout",
     "output_type": "stream",
     "text": [
      "Reading transformed data...\n",
      "\n",
      "Done!\n",
      "Reading transformed data...\n",
      "\n",
      "Done!\n"
     ]
    }
   ],
   "source": [
    "val_dataset = CSGODataset(transform=transform_multichannel, dataset_split='val')\n",
    "test_dataset = CSGODataset(transform=transform_multichannel, dataset_split='test')"
   ]
  },
  {
   "cell_type": "code",
   "execution_count": 4,
   "metadata": {},
   "outputs": [
    {
     "name": "stdout",
     "output_type": "stream",
     "text": [
      "torch.Size([175042, 6, 5, 5])\n",
      "torch.Size([164186, 6, 5, 5])\n"
     ]
    }
   ],
   "source": [
    "print(val_dataset.data.shape)\n",
    "print(test_dataset.data.shape)"
   ]
  },
  {
   "cell_type": "code",
   "execution_count": 5,
   "metadata": {},
   "outputs": [],
   "source": [
    "from sklearn.metrics import roc_auc_score, roc_curve, log_loss, accuracy_score"
   ]
  },
  {
   "cell_type": "code",
   "execution_count": 7,
   "metadata": {},
   "outputs": [
    {
     "name": "stdout",
     "output_type": "stream",
     "text": [
      "AUC:  0.7447931723335289\n",
      "Log loss:  0.5782255539325183\n",
      "Accuracy:  0.6820820146022097\n"
     ]
    },
    {
     "data": {
      "image/png": "[encoded data removed]",
      "text/plain": [
       "<Figure size 720x504 with 1 Axes>"
      ]
     },
     "metadata": {},
     "output_type": "display_data"
    }
   ],
   "source": [
    "import torch\n",
    "\n",
    "from sklearn.linear_model import LogisticRegression\n",
    "\n",
    "lr = LogisticRegression(random_state=13)\n",
    "lr.fit(dataset.data.view(-1, 150), dataset.targets)\n",
    "preds = lr.predict_proba(val_dataset.data.view(-1, 150))\n",
    "\n",
    "from sklearn.metrics import roc_curve, roc_auc_score\n",
    "\n",
    "fpr, tpr, _ = roc_curve(val_dataset.targets, preds[:, 1])\n",
    "\n",
    "print('AUC: ', roc_auc_score(val_dataset.targets, preds[:, 1]))\n",
    "print('Log loss: ', log_loss(val_dataset.targets, preds[:, 1]))\n",
    "print('Accuracy: ', accuracy_score(val_dataset.targets, preds[:, 1] > 0.5))\n",
    "\n",
    "import matplotlib.pyplot as plt\n",
    "%matplotlib inline\n",
    "\n",
    "plt.figure(figsize=(10, 7))\n",
    "plt.plot(fpr, tpr)\n",
    "plt.plot([0, 1], [0, 1], 'k--')\n",
    "plt.xlabel('FPR')\n",
    "plt.ylabel('TPR')\n",
    "plt.xlim([0, 1])\n",
    "plt.ylim([0, 1])\n",
    "plt.title('ROC curve of logistic regression baseline model');"
   ]
  },
  {
   "cell_type": "code",
   "execution_count": 9,
   "metadata": {},
   "outputs": [
    {
     "name": "stdout",
     "output_type": "stream",
     "text": [
      "Fitting 5 folds for each of 100 candidates, totalling 500 fits\n"
     ]
    },
    {
     "name": "stderr",
     "output_type": "stream",
     "text": [
      "[Parallel(n_jobs=6)]: Using backend LokyBackend with 6 concurrent workers.\n",
      "[Parallel(n_jobs=6)]: Done  38 tasks      | elapsed: 14.3min\n",
      "[Parallel(n_jobs=6)]: Done 188 tasks      | elapsed: 65.3min\n",
      "[Parallel(n_jobs=6)]: Done 438 tasks      | elapsed: 148.7min\n",
      "[Parallel(n_jobs=6)]: Done 500 out of 500 | elapsed: 170.5min finished\n"
     ]
    },
    {
     "name": "stdout",
     "output_type": "stream",
     "text": [
      "AUC:  0.788196669273322\n",
      "Log loss:  0.5223852725918076\n",
      "Accuracy:  0.7062590692519509\n"
     ]
    },
    {
     "data": {
      "image/png": "[encoded data removed]",
      "text/plain": [
       "<Figure size 720x504 with 1 Axes>"
      ]
     },
     "metadata": {},
     "output_type": "display_data"
    }
   ],
   "source": [
    "from sklearn.model_selection import RandomizedSearchCV\n",
    "from scipy.stats import loguniform, uniform\n",
    "\n",
    "params = {'C': loguniform(1e-3, 1e1),\n",
    "          'l1_ratio': uniform(),\n",
    "          }\n",
    "\n",
    "lr = LogisticRegression(random_state=13, solver='saga', penalty='elasticnet')\n",
    "\n",
    "cv = RandomizedSearchCV(lr, params, random_state=3, n_iter=100, n_jobs=6, verbose=1, scoring='roc_auc')\n",
    "cv.fit(dataset.data.view(-1, 150), dataset.targets)\n",
    "\n",
    "preds = cv.best_estimator_.predict_proba(val_dataset.data.view(-1, 150))\n",
    "\n",
    "fpr, tpr, _ = roc_curve(val_dataset.targets, preds[:, 1])\n",
    "\n",
    "print('AUC: ', roc_auc_score(val_dataset.targets, preds[:, 1]))\n",
    "print('Log loss: ', log_loss(val_dataset.targets, preds[:, 1]))\n",
    "print('Accuracy: ', accuracy_score(val_dataset.targets, preds[:, 1] > 0.5))\n",
    "\n",
    "import matplotlib.pyplot as plt\n",
    "%matplotlib inline\n",
    "\n",
    "plt.figure(figsize=(10, 7))\n",
    "plt.plot(fpr, tpr)\n",
    "plt.plot([0, 1], [0, 1], 'k--')\n",
    "plt.xlabel('FPR')\n",
    "plt.ylabel('TPR')\n",
    "plt.xlim([0, 1])\n",
    "plt.ylim([0, 1])\n",
    "plt.title('ROC curve of logistic regression baseline model');"
   ]
  },
  {
   "cell_type": "code",
   "execution_count": 10,
   "metadata": {},
   "outputs": [
    {
     "data": {
      "text/plain": [
       "LogisticRegression(C=7.263959337796386, class_weight=None, dual=False,\n",
       "                   fit_intercept=True, intercept_scaling=1,\n",
       "                   l1_ratio=0.7510273073183793, max_iter=100,\n",
       "                   multi_class='auto', n_jobs=None, penalty='elasticnet',\n",
       "                   random_state=13, solver='saga', tol=0.0001, verbose=0,\n",
       "                   warm_start=False)"
      ]
     },
     "execution_count": 10,
     "metadata": {},
     "output_type": "execute_result"
    }
   ],
   "source": [
    "cv.best_estimator_"
   ]
  },
  {
   "cell_type": "code",
   "execution_count": 18,
   "metadata": {},
   "outputs": [
    {
     "name": "stdout",
     "output_type": "stream",
     "text": [
      "Fitting 5 folds for each of 100 candidates, totalling 500 fits\n"
     ]
    },
    {
     "name": "stderr",
     "output_type": "stream",
     "text": [
      "[Parallel(n_jobs=-1)]: Using backend LokyBackend with 12 concurrent workers.\n",
      "[Parallel(n_jobs=-1)]: Done  38 tasks      | elapsed:  1.3min\n",
      "[Parallel(n_jobs=-1)]: Done 188 tasks      | elapsed:  6.5min\n",
      "[Parallel(n_jobs=-1)]: Done 438 tasks      | elapsed: 14.6min\n",
      "[Parallel(n_jobs=-1)]: Done 500 out of 500 | elapsed: 16.5min finished\n"
     ]
    },
    {
     "name": "stdout",
     "output_type": "stream",
     "text": [
      "AUC:  0.7897245563325281\n",
      "Log loss:  0.5182551794691311\n",
      "Accuracy:  0.7085956513293953\n"
     ]
    },
    {
     "data": {
      "image/png": "[encoded data removed]",
      "text/plain": [
       "<Figure size 720x504 with 1 Axes>"
      ]
     },
     "metadata": {},
     "output_type": "display_data"
    }
   ],
   "source": [
    "from sklearn.model_selection import RandomizedSearchCV\n",
    "from scipy.stats import loguniform, uniform\n",
    "from sklearn.feature_selection import VarianceThreshold\n",
    "from sklearn.preprocessing import StandardScaler\n",
    "\n",
    "params = {'C': loguniform(1e-3, 1e1),\n",
    "          'l1_ratio': uniform(),\n",
    "          }\n",
    "\n",
    "scaler = StandardScaler()\n",
    "thresh = VarianceThreshold()  # remove constant features\n",
    "\n",
    "thresh.fit(dataset.data.view(-1, 150))\n",
    "scaler.fit(thresh.transform(dataset.data.view(-1, 150)))\n",
    "\n",
    "lr = LogisticRegression(random_state=13, solver='saga', penalty='elasticnet')\n",
    "\n",
    "cv = RandomizedSearchCV(lr, params, random_state=3, n_iter=100, n_jobs=-1, verbose=1, scoring='roc_auc', pre_dispatch='n_jobs')\n",
    "cv.fit(scaler.transform(thresh.transform(dataset.data.view(-1, 150))),\n",
    "       dataset.targets)\n",
    "\n",
    "preds = cv.best_estimator_.predict_proba(scaler.transform(thresh.transform(val_dataset.data.view(-1, 150))))\n",
    "\n",
    "fpr, tpr, _ = roc_curve(val_dataset.targets, preds[:, 1])\n",
    "\n",
    "print('AUC: ', roc_auc_score(val_dataset.targets, preds[:, 1]))\n",
    "print('Log loss: ', log_loss(val_dataset.targets, preds[:, 1]))\n",
    "print('Accuracy: ', accuracy_score(val_dataset.targets, preds[:, 1] > 0.5))\n",
    "\n",
    "import matplotlib.pyplot as plt\n",
    "%matplotlib inline\n",
    "\n",
    "plt.figure(figsize=(10, 7))\n",
    "plt.plot(fpr, tpr)\n",
    "plt.plot([0, 1], [0, 1], 'k--')\n",
    "plt.xlabel('FPR')\n",
    "plt.ylabel('TPR')\n",
    "plt.xlim([0, 1])\n",
    "plt.ylim([0, 1])\n",
    "plt.title('ROC curve of logistic regression baseline model');"
   ]
  },
  {
   "cell_type": "code",
   "execution_count": 19,
   "metadata": {},
   "outputs": [
    {
     "data": {
      "text/plain": [
       "LogisticRegression(C=0.0019701290593098237, class_weight=None, dual=False,\n",
       "                   fit_intercept=True, intercept_scaling=1,\n",
       "                   l1_ratio=0.8923931875870925, max_iter=100,\n",
       "                   multi_class='auto', n_jobs=None, penalty='elasticnet',\n",
       "                   random_state=13, solver='saga', tol=0.0001, verbose=0,\n",
       "                   warm_start=False)"
      ]
     },
     "execution_count": 19,
     "metadata": {},
     "output_type": "execute_result"
    }
   ],
   "source": [
    "cv.best_estimator_"
   ]
  },
  {
   "cell_type": "code",
   "execution_count": 12,
   "metadata": {},
   "outputs": [
    {
     "data": {
      "text/plain": [
       "0.7085956513293953"
      ]
     },
     "execution_count": 12,
     "metadata": {},
     "output_type": "execute_result"
    }
   ],
   "source": [
    "cv.best_estimator_.score(scaler.transform(thresh.transform(val_dataset.data.view(-1, 150))), val_dataset.targets)"
   ]
  },
  {
   "cell_type": "code",
   "execution_count": 13,
   "metadata": {},
   "outputs": [
    {
     "data": {
      "image/png": "[encoded data removed]",
      "text/plain": [
       "<Figure size 432x288 with 1 Axes>"
      ]
     },
     "metadata": {},
     "output_type": "display_data"
    },
    {
     "data": {
      "image/png": "[encoded data removed]",
      "text/plain": [
       "<Figure size 432x288 with 1 Axes>"
      ]
     },
     "metadata": {},
     "output_type": "display_data"
    },
    {
     "data": {
      "image/png": "[encoded data removed]",
      "text/plain": [
       "<Figure size 432x288 with 1 Axes>"
      ]
     },
     "metadata": {},
     "output_type": "display_data"
    }
   ],
   "source": [
    "import pandas as pd\n",
    "import seaborn as sns\n",
    "\n",
    "results = pd.DataFrame.from_dict(cv.cv_results_)\n",
    "sns.scatterplot(x='param_C', y='mean_test_score', data=results)\n",
    "plt.xscale('log')\n",
    "plt.show()\n",
    "sns.scatterplot(x='param_l1_ratio', y='mean_test_score', data=results)\n",
    "plt.show()\n",
    "sns.scatterplot(x='param_C', y='mean_test_score', hue='param_l1_ratio', data=results)\n",
    "plt.xscale('log')\n",
    "plt.show()"
   ]
  },
  {
   "cell_type": "code",
   "execution_count": 14,
   "metadata": {},
   "outputs": [
    {
     "data": {
      "image/png": "[encoded data removed]",
      "text/plain": [
       "<Figure size 432x288 with 1 Axes>"
      ]
     },
     "metadata": {},
     "output_type": "display_data"
    }
   ],
   "source": [
    "sns.scatterplot(x='param_l1_ratio', y='mean_test_score', hue='param_C', data=results)\n",
    "plt.show()"
   ]
  },
  {
   "cell_type": "code",
   "execution_count": 15,
   "metadata": {},
   "outputs": [
    {
     "name": "stdout",
     "output_type": "stream",
     "text": [
      "Fitting 5 folds for each of 100 candidates, totalling 500 fits\n"
     ]
    },
    {
     "name": "stderr",
     "output_type": "stream",
     "text": [
      "[Parallel(n_jobs=8)]: Using backend LokyBackend with 8 concurrent workers.\n",
      "[Parallel(n_jobs=8)]: Done  42 tasks      | elapsed:  3.8min\n",
      "[Parallel(n_jobs=8)]: Done 192 tasks      | elapsed: 18.5min\n",
      "[Parallel(n_jobs=8)]: Done 442 tasks      | elapsed: 39.1min\n",
      "[Parallel(n_jobs=8)]: Done 500 out of 500 | elapsed: 46.5min finished\n"
     ]
    },
    {
     "name": "stdout",
     "output_type": "stream",
     "text": [
      "AUC:  0.7802311496890286\n",
      "Log loss:  0.5322571431835534\n",
      "Accuracy:  0.7105380422984198\n"
     ]
    },
    {
     "data": {
      "image/png": "[encoded data removed]",
      "text/plain": [
       "<Figure size 720x504 with 1 Axes>"
      ]
     },
     "metadata": {},
     "output_type": "display_data"
    }
   ],
   "source": [
    "from sklearn.model_selection import RandomizedSearchCV\n",
    "from scipy.stats import loguniform, uniform\n",
    "from sklearn.feature_selection import VarianceThreshold\n",
    "from sklearn.preprocessing import StandardScaler\n",
    "\n",
    "params = {'C': loguniform(1e-6, 1e-2),\n",
    "          }\n",
    "\n",
    "scaler = StandardScaler()\n",
    "thresh = VarianceThreshold()  # remove constant features\n",
    "\n",
    "thresh.fit(dataset.data.view(-1, 150))\n",
    "scaler.fit(thresh.transform(dataset.data.view(-1, 150)))\n",
    "\n",
    "lr = LogisticRegression(random_state=13, l1_ratio=1, solver='saga', penalty='elasticnet')\n",
    "\n",
    "cv = RandomizedSearchCV(lr, params, random_state=3, n_iter=100, n_jobs=8, verbose=1, scoring='roc_auc', pre_dispatch='n_jobs')\n",
    "cv.fit(scaler.transform(thresh.transform(dataset.data.view(-1, 150))),\n",
    "       dataset.targets)\n",
    "\n",
    "preds = cv.best_estimator_.predict_proba(scaler.transform(thresh.transform(val_dataset.data.view(-1, 150))))\n",
    "\n",
    "fpr, tpr, _ = roc_curve(val_dataset.targets, preds[:, 1])\n",
    "\n",
    "print('AUC: ', roc_auc_score(val_dataset.targets, preds[:, 1]))\n",
    "print('Log loss: ', log_loss(val_dataset.targets, preds[:, 1]))\n",
    "print('Accuracy: ', accuracy_score(val_dataset.targets, preds[:, 1] > 0.5))\n",
    "\n",
    "import matplotlib.pyplot as plt\n",
    "%matplotlib inline\n",
    "\n",
    "plt.figure(figsize=(10, 7))\n",
    "plt.plot(fpr, tpr)\n",
    "plt.plot([0, 1], [0, 1], 'k--')\n",
    "plt.xlabel('FPR')\n",
    "plt.ylabel('TPR')\n",
    "plt.xlim([0, 1])\n",
    "plt.ylim([0, 1])\n",
    "plt.title('ROC curve of logistic regression baseline model');"
   ]
  },
  {
   "cell_type": "code",
   "execution_count": 16,
   "metadata": {},
   "outputs": [
    {
     "data": {
      "text/plain": [
       "LogisticRegression(C=0.00015086763143259878, class_weight=None, dual=False,\n",
       "                   fit_intercept=True, intercept_scaling=1, l1_ratio=1,\n",
       "                   max_iter=100, multi_class='auto', n_jobs=None,\n",
       "                   penalty='elasticnet', random_state=13, solver='saga',\n",
       "                   tol=0.0001, verbose=0, warm_start=False)"
      ]
     },
     "execution_count": 16,
     "metadata": {},
     "output_type": "execute_result"
    }
   ],
   "source": [
    "cv.best_estimator_"
   ]
  },
  {
   "cell_type": "code",
   "execution_count": 17,
   "metadata": {},
   "outputs": [
    {
     "data": {
      "image/png": "[encoded data removed]",
      "text/plain": [
       "<Figure size 432x288 with 1 Axes>"
      ]
     },
     "metadata": {},
     "output_type": "display_data"
    }
   ],
   "source": [
    "results = pd.DataFrame.from_dict(cv.cv_results_)\n",
    "sns.scatterplot(x='param_C', y='mean_test_score', data=results)\n",
    "plt.xscale('log')\n",
    "plt.show()"
   ]
  },
  {
   "cell_type": "code",
   "execution_count": null,
   "metadata": {},
   "outputs": [],
   "source": []
  }
 ],
 "metadata": {
  "kernelspec": {
   "display_name": "Python 3",
   "language": "python",
   "name": "python3"
  },
  "language_info": {
   "codemirror_mode": {
    "name": "ipython",
    "version": 3
   },
   "file_extension": ".py",
   "mimetype": "text/x-python",
   "name": "python",
   "nbconvert_exporter": "python",
   "pygments_lexer": "ipython3",
   "version": "3.7.0"
  }
 },
 "nbformat": 4,
 "nbformat_minor": 2
}
