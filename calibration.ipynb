{
 "cells": [
  {
   "cell_type": "code",
   "execution_count": 28,
   "metadata": {},
   "outputs": [
    {
     "name": "stdout",
     "output_type": "stream",
     "text": [
      "Reading transformed data...\n",
      "\n",
      "Done!\n"
     ]
    }
   ],
   "source": [
    "import pandas as pd\n",
    "from csgo_wp.data_transform import CSGODataset, transform_multichannel\n",
    "from csgo_wp.model import LR_CNN\n",
    "import torch\n",
    "\n",
    "import matplotlib.pyplot as plt\n",
    "%matplotlib inline\n",
    "\n",
    "import warnings\n",
    "warnings.filterwarnings('ignore')\n",
    "\n",
    "def test(model, loader, device):\n",
    "    model.eval()\n",
    "    model.to(device)\n",
    "\n",
    "    targets = []\n",
    "    outputs = []\n",
    "\n",
    "    with torch.no_grad():\n",
    "        for index, (data, target) in enumerate(loader):\n",
    "            targets.append(target)\n",
    "\n",
    "            data = data.to(device)\n",
    "            output = model(data)\n",
    "            outputs.append(output)\n",
    "\n",
    "        y_pred = torch.cat(outputs, dim=0).cpu().numpy().astype(float)\n",
    "        y_true = torch.cat(targets, dim=0).cpu().numpy().astype(float)\n",
    "\n",
    "        df = pd.DataFrame([y_true, y_pred]).T\n",
    "        df.columns = ['y_true', 'y_pred']\n",
    "        df.to_csv('final_model_predictions.csv', index=False)\n",
    "        \n",
    "    return df\n",
    "\n",
    "test_dataset = CSGODataset(transform=transform_multichannel,\n",
    "                           dataset_split='test',\n",
    "                           verbose=False,\n",
    "                           )\n",
    "\n",
    "test_loader = torch.utils.data.DataLoader(test_dataset,\n",
    "                                          batch_size=64,\n",
    "                                          shuffle=False,\n",
    "                                          num_workers=0,\n",
    "                                          )\n",
    "\n",
    "device = 'cuda:0'\n",
    "\n",
    "model = LR_CNN(input_size=(6, 5, 5),\n",
    "               hidden_sizes=[200, 100, 50],\n",
    "               activation='LeakyReLU',\n",
    "               activation_params={},\n",
    "               dropout=False,\n",
    "               batch_norm=False,\n",
    "               cnn_options=((4, 6, 1, 1, 0, 1, 1, 0),\n",
    "                            (6, 6, 1, 1, 0, 1, 1, 0),\n",
    "                            (6, 6, 5, 1, 0, 1, 1, 0),),\n",
    "               )\n",
    "model.load_state_dict(torch.load('csgo_wp/model-final.pt'))\n",
    "model.eval();"
   ]
  },
  {
   "cell_type": "code",
   "execution_count": 7,
   "metadata": {},
   "outputs": [],
   "source": [
    "df = test(model=model,\n",
    "          loader=test_loader,\n",
    "          device=device,\n",
    "          )"
   ]
  },
  {
   "cell_type": "code",
   "execution_count": 8,
   "metadata": {},
   "outputs": [
    {
     "data": {
      "text/html": [
       "<div>\n",
       "<style scoped>\n",
       "    .dataframe tbody tr th:only-of-type {\n",
       "        vertical-align: middle;\n",
       "    }\n",
       "\n",
       "    .dataframe tbody tr th {\n",
       "        vertical-align: top;\n",
       "    }\n",
       "\n",
       "    .dataframe thead th {\n",
       "        text-align: right;\n",
       "    }\n",
       "</style>\n",
       "<table border=\"1\" class=\"dataframe\">\n",
       "  <thead>\n",
       "    <tr style=\"text-align: right;\">\n",
       "      <th></th>\n",
       "      <th>y_true</th>\n",
       "      <th>y_pred</th>\n",
       "    </tr>\n",
       "  </thead>\n",
       "  <tbody>\n",
       "    <tr>\n",
       "      <th>0</th>\n",
       "      <td>0.0</td>\n",
       "      <td>0.452990</td>\n",
       "    </tr>\n",
       "    <tr>\n",
       "      <th>1</th>\n",
       "      <td>0.0</td>\n",
       "      <td>0.458283</td>\n",
       "    </tr>\n",
       "    <tr>\n",
       "      <th>2</th>\n",
       "      <td>0.0</td>\n",
       "      <td>0.462887</td>\n",
       "    </tr>\n",
       "    <tr>\n",
       "      <th>3</th>\n",
       "      <td>0.0</td>\n",
       "      <td>0.473695</td>\n",
       "    </tr>\n",
       "    <tr>\n",
       "      <th>4</th>\n",
       "      <td>0.0</td>\n",
       "      <td>0.466792</td>\n",
       "    </tr>\n",
       "  </tbody>\n",
       "</table>\n",
       "</div>"
      ],
      "text/plain": [
       "   y_true    y_pred\n",
       "0     0.0  0.452990\n",
       "1     0.0  0.458283\n",
       "2     0.0  0.462887\n",
       "3     0.0  0.473695\n",
       "4     0.0  0.466792"
      ]
     },
     "execution_count": 8,
     "metadata": {},
     "output_type": "execute_result"
    }
   ],
   "source": [
    "df.head()"
   ]
  },
  {
   "cell_type": "code",
   "execution_count": 23,
   "metadata": {},
   "outputs": [
    {
     "data": {
      "text/plain": [
       "9.132577787689378"
      ]
     },
     "execution_count": 23,
     "metadata": {},
     "output_type": "execute_result"
    }
   ],
   "source": [
    "from sklearn.calibration import calibration_curve\n",
    "import numpy as np\n",
    "\n",
    "def expected_calibration_error(y_true, y_pred, bins):\n",
    "    prob_true, prob_pred = calibration_curve(y_true, y_pred, n_bins=bins, strategy='quantile')\n",
    "    return np.sum(np.abs(prob_true - prob_pred))\n",
    "\n",
    "expected_calibration_error(df['y_true'], df['y_pred'], bins=100)"
   ]
  },
  {
   "cell_type": "code",
   "execution_count": 22,
   "metadata": {},
   "outputs": [
    {
     "data": {
      "image/png": "[encoded data removed]",
      "text/plain": [
       "<Figure size 720x504 with 1 Axes>"
      ]
     },
     "metadata": {},
     "output_type": "display_data"
    }
   ],
   "source": [
    "prob_true, prob_pred = calibration_curve(df['y_true'], df['y_pred'], n_bins=10, strategy='quantile')\n",
    "\n",
    "plt.figure(figsize=(10, 7))\n",
    "plt.plot(prob_pred, prob_true)\n",
    "plt.plot([0, 1], [0, 1], 'k--')\n",
    "plt.xlabel('Predicted probability')\n",
    "plt.ylabel('True probability')\n",
    "plt.title('Calibration plot for best LR-CNN model');"
   ]
  },
  {
   "cell_type": "code",
   "execution_count": 26,
   "metadata": {},
   "outputs": [
    {
     "data": {
      "image/png": "[encoded data removed]",
      "text/plain": [
       "<Figure size 720x504 with 1 Axes>"
      ]
     },
     "metadata": {},
     "output_type": "display_data"
    }
   ],
   "source": [
    "plt.figure(figsize=(10, 7))\n",
    "df['y_pred'].hist(bins=100)\n",
    "plt.xlabel('Predicted probability')\n",
    "plt.ylabel('Absolute incidence')\n",
    "plt.title('Histogram of predicted probabilities for best model');"
   ]
  },
  {
   "cell_type": "code",
   "execution_count": 27,
   "metadata": {},
   "outputs": [
    {
     "data": {
      "text/plain": [
       "0.4253303284886725"
      ]
     },
     "execution_count": 27,
     "metadata": {},
     "output_type": "execute_result"
    }
   ],
   "source": [
    "df['y_pred'].mean()"
   ]
  }
 ],
 "metadata": {
  "kernelspec": {
   "display_name": "Python 3",
   "language": "python",
   "name": "python3"
  },
  "language_info": {
   "codemirror_mode": {
    "name": "ipython",
    "version": 3
   },
   "file_extension": ".py",
   "mimetype": "text/x-python",
   "name": "python",
   "nbconvert_exporter": "python",
   "pygments_lexer": "ipython3",
   "version": "3.7.0"
  }
 },
 "nbformat": 4,
 "nbformat_minor": 2
}
