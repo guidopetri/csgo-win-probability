{
 "cells": [
  {
   "cell_type": "code",
   "execution_count": 19,
   "metadata": {},
   "outputs": [
    {
     "name": "stdout",
     "output_type": "stream",
     "text": [
      "Reading transformed data...\n",
      "\n",
      "Done!\n"
     ]
    }
   ],
   "source": [
    "import pandas as pd\n",
    "from csgo_wp.data_transform import CSGODataset, transform_multichannel\n",
    "from csgo_wp.model import LR_CNN\n",
    "from sklearn.metrics import log_loss, roc_auc_score, accuracy_score\n",
    "import torch\n",
    "\n",
    "import matplotlib.pyplot as plt\n",
    "%matplotlib inline\n",
    "\n",
    "import warnings\n",
    "warnings.filterwarnings('ignore')\n",
    "\n",
    "def test(model, loader, device):\n",
    "    model.eval()\n",
    "    model.to(device)\n",
    "\n",
    "    targets = []\n",
    "    outputs = []\n",
    "\n",
    "    with torch.no_grad():\n",
    "        for index, (data, target) in enumerate(loader):\n",
    "            targets.append(target)\n",
    "\n",
    "            # permute the data - just the 2nd and 4th T players\n",
    "            data[:, 0] = data[:, 0, [0, 3, 2, 1, 4], :]\n",
    "            data[:, 0] = data[:, 0, :, [0, 3, 2, 1, 4]]\n",
    "\n",
    "            data[:, 2] = data[:, 2, [0, 3, 2, 1, 4], :]\n",
    "            data[:, 3] = data[:, 3, :, [0, 3, 2, 1, 4]]\n",
    "\n",
    "            data[:, 4] = data[:, 4, :, [0, 3, 2, 1, 4]]\n",
    "            data[:, 4] = data[:, 4, [0, 3, 2, 1, 4], :]\n",
    "\n",
    "            data = data.to(device)\n",
    "            output = model(data)\n",
    "            outputs.append(output)\n",
    "\n",
    "        y_pred = torch.cat(outputs, dim=0).cpu().numpy().astype(float)\n",
    "        y_true = torch.cat(targets, dim=0).cpu().numpy().astype(float)\n",
    "\n",
    "        print('\\n' + '-' * 30)\n",
    "        print('Results')\n",
    "        print(f'Accuracy: {accuracy_score(y_true, y_pred > 0.5):.4f}')\n",
    "        print(f'AUC: {roc_auc_score(y_true, y_pred):.4f}')\n",
    "        print(f'Log loss: {log_loss(y_true, y_pred):.4f}')\n",
    "\n",
    "    return\n",
    "\n",
    "test_dataset = CSGODataset(transform=transform_multichannel,\n",
    "                           dataset_split='test',\n",
    "                           verbose=False,\n",
    "                           )\n",
    "\n",
    "test_loader = torch.utils.data.DataLoader(test_dataset,\n",
    "                                          batch_size=64,\n",
    "                                          shuffle=False,\n",
    "                                          num_workers=0,\n",
    "                                          )\n",
    "\n",
    "device = 'cuda:0'\n",
    "\n",
    "model = LR_CNN(input_size=(6, 5, 5),\n",
    "               hidden_sizes=[200, 100, 50],\n",
    "               activation='LeakyReLU',\n",
    "               activation_params={},\n",
    "               dropout=False,\n",
    "               batch_norm=False,\n",
    "               cnn_options=((4, 6, 1, 1, 0, 1, 1, 0),\n",
    "                            (6, 6, 1, 1, 0, 1, 1, 0),\n",
    "                            (6, 6, 5, 1, 0, 1, 1, 0),),\n",
    "               )\n",
    "model.load_state_dict(torch.load('csgo_wp/model-final.pt'))\n",
    "model.eval();"
   ]
  },
  {
   "cell_type": "code",
   "execution_count": 20,
   "metadata": {},
   "outputs": [
    {
     "name": "stdout",
     "output_type": "stream",
     "text": [
      "\n",
      "------------------------------\n",
      "Results\n",
      "Accuracy: 0.6963\n",
      "AUC: 0.8290\n",
      "Log loss: 0.5143\n"
     ]
    }
   ],
   "source": [
    "# permuted test data\n",
    "test(model=model,\n",
    "     loader=test_loader,\n",
    "     device=device,\n",
    "     )"
   ]
  },
  {
   "cell_type": "code",
   "execution_count": null,
   "metadata": {},
   "outputs": [],
   "source": []
  }
 ],
 "metadata": {
  "kernelspec": {
   "display_name": "Python 3",
   "language": "python",
   "name": "python3"
  },
  "language_info": {
   "codemirror_mode": {
    "name": "ipython",
    "version": 3
   },
   "file_extension": ".py",
   "mimetype": "text/x-python",
   "name": "python",
   "nbconvert_exporter": "python",
   "pygments_lexer": "ipython3",
   "version": "3.7.0"
  }
 },
 "nbformat": 4,
 "nbformat_minor": 2
}
